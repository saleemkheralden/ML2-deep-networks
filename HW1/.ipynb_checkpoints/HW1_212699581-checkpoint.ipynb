{
 "cells": [
  {
   "cell_type": "markdown",
   "id": "1779a6d8",
   "metadata": {},
   "source": [
    "Theoretical part: \\\n",
    "Question 1"
   ]
  },
  {
   "cell_type": "markdown",
   "id": "25a88d71",
   "metadata": {},
   "source": [
    "From the chain rule we get \\\n",
    "$$\\frac{\\partial L(\\hat{y}, y)}{\\partial w} =\n",
    "\\sum\\limits_{i}\\frac{\\partial L(\\hat{y}, y)}{\\partial \\hat{y}_{i}}\\frac{\\partial \\hat{y}_{i}}{\\partial w}$$\n",
    "\n",
    "and since $$\\hat{y} = softmax(x)_{i} = \\frac{e^{f(x, w)_{i}}}{\\sum\\limits_{j}e^{f(x, w)_{j}}}$$\n",
    "we get $$\\frac{\\partial \\hat{y}_{i}}{\\partial w} = $$"
   ]
  },
  {
   "cell_type": "markdown",
   "id": "a87799c4",
   "metadata": {},
   "source": []
  },
  {
   "cell_type": "code",
   "execution_count": null,
   "id": "ee6cf2a2",
   "metadata": {},
   "outputs": [],
   "source": []
  }
 ],
 "metadata": {
  "kernelspec": {
   "display_name": "Python 3 (ipykernel)",
   "language": "python",
   "name": "python3"
  },
  "language_info": {
   "codemirror_mode": {
    "name": "ipython",
    "version": 3
   },
   "file_extension": ".py",
   "mimetype": "text/x-python",
   "name": "python",
   "nbconvert_exporter": "python",
   "pygments_lexer": "ipython3",
   "version": "3.10.6"
  }
 },
 "nbformat": 4,
 "nbformat_minor": 5
}
