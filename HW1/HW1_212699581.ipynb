{
 "cells": [
  {
   "cell_type": "markdown",
   "id": "e2cd2fac",
   "metadata": {},
   "source": [
    "**Theoretical part:** \\\n",
    "**Question 1**"
   ]
  },
  {
   "cell_type": "markdown",
   "id": "8adadf99",
   "metadata": {},
   "source": [
    "First denote $f(x, w)_{i} = z_{i}$ \\\n",
    "From the chain rule we get\n",
    "$$\\frac{\\partial L(\\hat{y}, y)}{\\partial w} =\n",
    "\\sum\\limits_{i}\\frac{\\partial L(\\hat{y}, y)}{\\partial \\hat{y}_{i}}\\frac{\\partial \\hat{y}_{i}}{\\partial w}$$\n",
    "$$ \\frac{\\partial \\hat{y}_{i}}{\\partial w} = \\sum\\limits_{k}\\frac{\\partial \\hat{y}_{i}}{\\partial z_{k}}\\frac{\\partial z_{k}}{\\partial w} $$\n",
    "\n",
    "\n",
    "and since $$\\hat{y}_{i} = softmax(x)_{i} = \\frac{e^{f(x, w)_{i}}}{\\sum\\limits_{j}e^{f(x, w)_{j}}} = \\frac{e^{z_{i}}}{\\sum\\limits_{j}e^{z_{j}}}$$\n",
    "we get $$ \\frac{\\partial \\hat{y}_{i}}{\\partial z_{k}} = \\begin{cases}\n",
    "                                                            \\frac{e^{z_i}}{\\sum\\limits_{j}e^{z_j}} \\left( 1 - \\frac{e^{z_i}}{\\sum\\limits_{j}e^{z_j}} \\right) = \\hat{y}_{i} (1 - \\hat{y}_{i}) & \\text{ , i = k} \\\\\n",
    "                                                            -\\frac{e^{z_i}}{\\sum\\limits_{j}e^{z_j}} \\frac{e^{z_k}}{\\sum\\limits_{j}e^{z_j}} = -\\hat{y}_{i}\\hat{y}_{k} & \\text{ , i} \\neq \\text{k}\n",
    "                                                        \\end{cases} $$\n",
    "\n",
    "$$ \\frac{\\partial \\hat{y}_{i}}{\\partial w} = \\sum\\limits_{k \\neq i} -\\hat{y}_{i}\\hat{y}_{k}\\frac{\\partial z_{k}}{\\partial w} + \\hat{y}_{i} (1 - \\hat{y}_{i}) \\frac{\\partial z_{i}}{\\partial w}\n",
    "                                           = \\sum\\limits_{k} -\\hat{y}_{i}\\hat{y}_{k}\\frac{\\partial z_{k}}{\\partial w} + \\hat{y}_{i} \\frac{\\partial z_{i}}{\\partial w}$$\n",
    "\n",
    "\n",
    "$$\n",
    "\\frac{\\partial z_{i}}{\\partial w} = \\frac{\\partial f(x, w)_{i}}{\\partial w}\n",
    "$$\n",
    "\n",
    "and so we get\n",
    "\n",
    "$$\n",
    "\\frac{\\partial L(\\hat{y}, y)}{\\partial w} =\n",
    "\\sum\\limits_{i}\\left(\\sum\\limits_{k} -\\hat{y}_{i}\\hat{y}_{k}\\frac{\\partial z_{k}}{\\partial w} + \\hat{y}_{i} \\frac{\\partial z_{i}}{\\partial w} \\right)\\frac{\\partial L(\\hat{y}, y)}{\\partial \\hat{y}_{i}}\n",
    "$$"
   ]
  },
  {
   "cell_type": "markdown",
   "source": [],
   "metadata": {
    "collapsed": false
   }
  }
 ],
 "metadata": {
  "kernelspec": {
   "display_name": "Python 3 (ipykernel)",
   "language": "python",
   "name": "python3"
  },
  "language_info": {
   "codemirror_mode": {
    "name": "ipython",
    "version": 3
   },
   "file_extension": ".py",
   "mimetype": "text/x-python",
   "name": "python",
   "nbconvert_exporter": "python",
   "pygments_lexer": "ipython3",
   "version": "3.10.6"
  }
 },
 "nbformat": 4,
 "nbformat_minor": 5
}
