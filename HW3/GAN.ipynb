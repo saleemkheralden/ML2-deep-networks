{
 "cells": [
  {
   "cell_type": "code",
   "execution_count": 1,
   "outputs": [],
   "source": [
    "import torch\n",
    "import torch.nn as nn\n",
    "import torchvision.datasets as dsets\n",
    "import torchvision.transforms as transforms\n",
    "from torch.utils.data import DataLoader, ConcatDataset\n",
    "import pickle\n",
    "import matplotlib.pyplot as plt"
   ],
   "metadata": {
    "collapsed": false
   }
  },
  {
   "cell_type": "code",
   "execution_count": 2,
   "outputs": [],
   "source": [
    "batch_size = 100\n",
    "\n",
    "# MNIST Dataset\n",
    "transform = transforms.Compose([\n",
    "\ttransforms.ToTensor(),\n",
    "\ttransforms.Normalize(mean=[0.5], std=[0.5])])\n",
    "\n",
    "train_dataset = dsets.MNIST(root='./mnist_data/', train=True, transform=transform, download=True)\n",
    "test_dataset = dsets.MNIST(root='./mnist_data/', train=False, transform=transform, download=False)\n",
    "\n",
    "# Data Loader (Input Pipeline)\n",
    "train_loader = torch.utils.data.DataLoader(dataset=train_dataset, batch_size=batch_size, shuffle=True)\n",
    "test_loader = torch.utils.data.DataLoader(dataset=test_dataset, batch_size=batch_size, shuffle=False)"
   ],
   "metadata": {
    "collapsed": false
   }
  },
  {
   "cell_type": "code",
   "execution_count": 3,
   "outputs": [],
   "source": [
    "idx = train_dataset.targets == 1\n",
    "train_dataset.targets = train_dataset.targets[idx]\n",
    "train_dataset.data = train_dataset.data[idx]\n",
    "\n",
    "idx = test_dataset.targets == 1\n",
    "test_dataset.targets = test_dataset.targets[idx]\n",
    "test_dataset.data = test_dataset.data[idx]\n"
   ],
   "metadata": {
    "collapsed": false
   }
  },
  {
   "cell_type": "code",
   "execution_count": 4,
   "outputs": [
    {
     "data": {
      "text/plain": "<Figure size 750x400 with 10 Axes>",
      "image/png": "[encoded data removed]"
     },
     "metadata": {},
     "output_type": "display_data"
    }
   ],
   "source": [
    "import matplotlib.pyplot as plt\n",
    "\n",
    "num_row = 2\n",
    "num_col = 5\n",
    "num = num_row * num_col\n",
    "X, Y = next(iter(train_loader))\n",
    "\n",
    "fig, axes = plt.subplots(num_row, num_col, figsize=(1.5 * num_col, 2 * num_row))\n",
    "for i in range(num):\n",
    "\tax = axes[i // num_col, i % num_col]\n",
    "\tax.imshow(X[i, 0, :, :], cmap='gray')\n",
    "\tax.set_title('Label: {}'.format(Y[i]))\n",
    "plt.tight_layout()\n",
    "plt.show()\n"
   ],
   "metadata": {
    "collapsed": false
   }
  },
  {
   "cell_type": "code",
   "execution_count": 5,
   "outputs": [],
   "source": [
    "class Generator(nn.Module):\n",
    "\tdef __init__(self, input_size, output_size):\n",
    "\t\tsuper(Generator, self).__init__()\n",
    "\t\tself.fc1 = nn.Linear(input_size, 256)\n",
    "\t\tself.fc2 = nn.Linear(self.fc1.out_features, self.fc1.out_features * 2)\n",
    "\t\tself.fc3 = nn.Linear(self.fc2.out_features, self.fc2.out_features * 2)\n",
    "\t\tself.fc4 = nn.Linear(self.fc3.out_features, output_size)\n",
    "\t\tself.RReLU = nn.LeakyReLU(negative_slope=0.2)\n",
    "\t\tself.tanh = nn.Tanh()\n",
    "\n",
    "\t# forward method\n",
    "\tdef forward(self, x):\n",
    "\t\tout = self.fc1(x)\n",
    "\t\tout = self.RReLU(out)\n",
    "\n",
    "\t\tout = self.fc2(out)\n",
    "\t\tout = self.RReLU(out)\n",
    "\t\tout = self.fc3(out)\n",
    "\t\tout = self.RReLU(out)\n",
    "\t\tout = self.fc4(out)\n",
    "\t\tout = self.tanh(out)\n",
    "\t\treturn out\n",
    "\n",
    "\n",
    "class Discriminator(nn.Module):\n",
    "\tdef __init__(self, input_size):\n",
    "\t\tsuper(Discriminator, self).__init__()\n",
    "\t\tself.fc1 = nn.Linear(input_size, 1024)\n",
    "\t\tself.fc2 = nn.Linear(self.fc1.out_features, self.fc1.out_features // 2)\n",
    "\t\tself.fc3 = nn.Linear(self.fc2.out_features, self.fc2.out_features // 2)\n",
    "\t\tself.fc4 = nn.Linear(self.fc3.out_features, 1)\n",
    "\t\tself.RReLU = nn.LeakyReLU(negative_slope=0.2)\n",
    "\t\tself.sigmoid = nn.Sigmoid()\n",
    "\t\tself.dropout = nn.Dropout(p=0.3)\n",
    "\n",
    "\t# forward method\n",
    "\tdef forward(self, x):\n",
    "\t\tout = self.fc1(x)\n",
    "\t\tout = self.RReLU(out)\n",
    "\t\tout = self.dropout(out)\n",
    "\n",
    "\t\tout = self.fc2(out)\n",
    "\t\tout = self.RReLU(out)\n",
    "\t\tout = self.dropout(out)\n",
    "\n",
    "\t\tout = self.fc3(out)\n",
    "\t\tout = self.RReLU(out)\n",
    "\t\tout = self.dropout(out)\n",
    "\n",
    "\t\tout = self.fc4(out)\n",
    "\t\tout = self.sigmoid(out)\n",
    "\t\treturn out\n"
   ],
   "metadata": {
    "collapsed": false
   }
  },
  {
   "cell_type": "code",
   "execution_count": 6,
   "outputs": [],
   "source": [
    "z_dim = 100\n",
    "mnist_dim = train_dataset.data.size(1) * train_dataset.data.size(2)\n",
    "G = Generator(input_size=z_dim, output_size=mnist_dim)\n",
    "D = Discriminator(input_size=mnist_dim)\n",
    "\n",
    "# loss\n",
    "criterion = nn.BCELoss()\n",
    "\n",
    "# optimizer\n",
    "lr = 0.0002\n",
    "G_optimizer = torch.optim.Adam(G.parameters(), lr=lr)\n",
    "D_optimizer = torch.optim.Adam(D.parameters(), lr=lr)\n"
   ],
   "metadata": {
    "collapsed": false
   }
  },
  {
   "cell_type": "code",
   "execution_count": null,
   "outputs": [],
   "source": [
    "def D_train(x):\n",
    "\t#=======================Train the discriminator=======================#\n",
    "\tD.zero_grad()\n",
    "\n",
    "\t# train discriminator on real\n",
    "\tx_real, y_real = x.view(-1, mnist_dim), torch.ones(batch_size, 1)\n",
    "\n",
    "\tD_output = D(x_real)\n",
    "\tD_real_loss = criterion(D_output, y_real)\n",
    "\tD_real_score = D_output\n",
    "\n",
    "\t# train discriminator on fake\n",
    "\tz = torch.randn(batch_size, z_dim)\n",
    "\tx_fake, y_fake = G(z), torch.zeros(batch_size, 1)\n",
    "\n",
    "\tD_output = D(x_fake)\n",
    "\tD_fake_loss = criterion(D_output, y_fake)\n",
    "\tD_fake_score = D_output\n",
    "\n",
    "\t# gradient backprop & optimize ONLY D's parameters\n",
    "\tD_loss = D_real_loss + D_fake_loss\n",
    "\tD_optimizer.zero_grad()\n",
    "\tD_loss.backward()\n",
    "\tD_optimizer.step()\n",
    "\n",
    "\treturn D_loss.data.item()\n",
    "\n",
    "\n",
    "def G_train(x):\n",
    "\t#=======================Train the generator=======================#\n",
    "\tG.zero_grad()\n",
    "\n",
    "\tz = torch.randn(batch_size, z_dim)\n",
    "\ty = torch.ones(batch_size, 1)\n",
    "\n",
    "\tG_output = G(z)\n",
    "\tD_output = D(G_output)\n",
    "\tG_loss = criterion(D_output, y)\n",
    "\n",
    "\t# gradient backprop & optimize ONLY G's parameters\n",
    "\tG_optimizer.zero_grad()\n",
    "\tG_loss.backward()\n",
    "\tG_optimizer.step()\n",
    "\n",
    "\treturn G_loss.data.item()\n"
   ],
   "metadata": {
    "collapsed": false
   }
  },
  {
   "cell_type": "code",
   "execution_count": null,
   "outputs": [],
   "source": [
    "mean = lambda x: sum(x) / len(x)\n",
    "\n",
    "n_epoch = 200\n",
    "for epoch in range(1, n_epoch + 1):\n",
    "\tD_losses, G_losses = [], []\n",
    "\tfor batch_idx, (x, _) in enumerate(train_loader):\n",
    "\t\tD_losses.append(D_train(x))\n",
    "\t\tG_losses.append(G_train(x))\n",
    "\n",
    "\tprint('[%d/%d]: loss_d: %.3f, loss_g: %.3f' % (\n",
    "\t\tepoch, n_epoch, mean(D_losses), mean(G_losses)))\n",
    "\n"
   ],
   "metadata": {
    "collapsed": false
   }
  }
 ],
 "metadata": {
  "kernelspec": {
   "display_name": "Python 3",
   "language": "python",
   "name": "python3"
  },
  "language_info": {
   "codemirror_mode": {
    "name": "ipython",
    "version": 2
   },
   "file_extension": ".py",
   "mimetype": "text/x-python",
   "name": "python",
   "nbconvert_exporter": "python",
   "pygments_lexer": "ipython2",
   "version": "2.7.6"
  }
 },
 "nbformat": 4,
 "nbformat_minor": 0
}
